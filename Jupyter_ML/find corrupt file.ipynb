{
 "cells": [
  {
   "cell_type": "code",
   "execution_count": 1,
   "id": "2da778a3",
   "metadata": {},
   "outputs": [],
   "source": [
    "from PIL import Image\n",
    "import os"
   ]
  },
  {
   "cell_type": "code",
   "execution_count": null,
   "id": "7ecb540f",
   "metadata": {},
   "outputs": [
    {
     "name": "stdout",
     "output_type": "stream",
     "text": [
      "Checking training images...\n"
     ]
    }
   ],
   "source": [
    "train_dir = r\"C:\\Users\\MHuang\\OneDrive - Everstream\\Desktop\\CompVision_Cable\\basedata\\T107\\Train\"\n",
    "valid_dir = r\"C:\\Users\\MHuang\\OneDrive - Everstream\\Desktop\\CompVision_Cable\\basedata\\T107\\Valid\"\n",
    "\n",
    "def check_images(directory):\n",
    "    for root, _, files in os.walk(directory):\n",
    "        for file in files:\n",
    "            try:\n",
    "                img_path = os.path.join(root, file)\n",
    "                img = Image.open(img_path)\n",
    "                img.verify()  # Verify that it is, in fact, an image\n",
    "            except (IOError, SyntaxError) as e:\n",
    "                print(f\"Bad file: {img_path}\")\n",
    "\n",
    "print(\"Checking training images...\")\n",
    "check_images(train_dir)\n",
    "print(\"Checking validation images...\")\n",
    "check_images(valid_dir)\n"
   ]
  },
  {
   "cell_type": "code",
   "execution_count": null,
   "id": "ba48d2b9",
   "metadata": {},
   "outputs": [],
   "source": []
  }
 ],
 "metadata": {
  "kernelspec": {
   "display_name": "Python 3 (ipykernel)",
   "language": "python",
   "name": "python3"
  },
  "language_info": {
   "codemirror_mode": {
    "name": "ipython",
    "version": 3
   },
   "file_extension": ".py",
   "mimetype": "text/x-python",
   "name": "python",
   "nbconvert_exporter": "python",
   "pygments_lexer": "ipython3",
   "version": "3.11.8"
  }
 },
 "nbformat": 4,
 "nbformat_minor": 5
}
