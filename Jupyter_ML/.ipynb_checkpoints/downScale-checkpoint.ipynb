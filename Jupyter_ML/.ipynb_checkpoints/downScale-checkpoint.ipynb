{
 "cells": [
  {
   "cell_type": "code",
   "execution_count": null,
   "id": "7f4307bb",
   "metadata": {},
   "outputs": [],
   "source": [
    "import os\n",
    "from PIL import Image\n",
    "\n",
    "\n",
    "\n",
    "def downscale_images(input_folder, output_folder, size):\n",
    "    if not os.path.exists(output_folder):\n",
    "        os.makedirs(output_folder)\n",
    "\n",
    "    for filename in os.listdir(input_folder):\n",
    "        if filename.endswith((\".jpg\", \".jpeg\", \".png\")):\n",
    "            img_path = os.path.join(input_folder, filename)\n",
    "            img = Image.open(img_path)\n",
    "            img_resized = img.resize(size, Image.LANCZOS)\n",
    "            output_path = os.path.join(output_folder, filename)\n",
    "            img_resized.save(output_path)\n",
    "            print(f\"{filename} has been resized and saved to {output_folder}\")\n",
    "\n",
    "input_folder = r\"C:\\...\\Desktop\\MikeDHuang_2024\\Machine Learning\\basedata\\Tester\\Test_Hit480\"\n",
    "output_folder = r\"C:\\...\\Desktop\\MikeDHuang_2024\\Machine Learning\\basedata\\Tester\\Test_Hit1080\"\n",
    "\n",
    "downscale_images(input_folder, output_folder, size=(1080,1080))\n"
   ]
  },
  {
   "cell_type": "code",
   "execution_count": null,
   "id": "d291bb06",
   "metadata": {},
   "outputs": [],
   "source": []
  }
 ],
 "metadata": {
  "kernelspec": {
   "display_name": "Python 3 (ipykernel)",
   "language": "python",
   "name": "python3"
  },
  "language_info": {
   "codemirror_mode": {
    "name": "ipython",
    "version": 3
   },
   "file_extension": ".py",
   "mimetype": "text/x-python",
   "name": "python",
   "nbconvert_exporter": "python",
   "pygments_lexer": "ipython3",
   "version": "3.11.8"
  }
 },
 "nbformat": 4,
 "nbformat_minor": 5
}
